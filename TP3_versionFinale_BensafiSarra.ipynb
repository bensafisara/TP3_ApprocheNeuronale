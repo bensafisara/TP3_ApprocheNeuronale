{
  "nbformat": 4,
  "nbformat_minor": 0,
  "metadata": {
    "colab": {
      "name": "TP3_versionFinale_BensafiSarra.ipynb",
      "provenance": []
    },
    "kernelspec": {
      "name": "python3",
      "display_name": "Python 3"
    },
    "language_info": {
      "name": "python"
    }
  },
  "cells": [
    {
      "cell_type": "markdown",
      "source": [
        "Bensafi Sarra"
      ],
      "metadata": {
        "id": "2LEagd6_lrn1"
      }
    },
    {
      "cell_type": "code",
      "execution_count": 2,
      "metadata": {
        "id": "d77OlGpZuyEi"
      },
      "outputs": [],
      "source": [
        "from numpy import linalg as LA\n",
        "import pandas as pd\n",
        "import numpy as np\n",
        "import matplotlib.pyplot as plt\n",
        "import itertools\n",
        "import re\n",
        "import numpy as np\n",
        "import random\n",
        "import math\n",
        "from scipy import linalg\n",
        "\n"
      ]
    },
    {
      "cell_type": "markdown",
      "source": [
        "Fonctions Utiles"
      ],
      "metadata": {
        "id": "3k6nmZQ23O38"
      }
    },
    {
      "cell_type": "code",
      "source": [
        "def initialisationHebb(X,N,etiq):\n",
        "    \n",
        "    #Step 1 mettre en place les weights\n",
        "    W_hebb = np.zeros((N))\n",
        "    \n",
        "   \n",
        "\n",
        "    #Step 3  mettre en place pred\n",
        "    \n",
        "    pred=etiq\n",
        "\n",
        "    for i in range(len(X)):\n",
        "     \n",
        "      #Step 4 w(nouveau) = w(vieux) + xi*yi  \n",
        "      W_hebb=W_hebb+(X[i]*pred[i])\n",
        "\n",
        "    \n",
        "    W_hebb=W_hebb/ LA.norm(W_hebb)\n",
        "  \n",
        "     \n",
        "    return W_hebb\n",
        "########################################\n",
        "def Stabilite(etiq,W,X):\n",
        "    \n",
        "    enum=etiq*np.dot(X,W)\n",
        "    return enum/linalg.norm(W)\n",
        "########################################\n",
        "'''L'erreur de généralisation = l'erreur sur de nouvelles données\n",
        "    on doit calculer combier y'a t'il de fautes avant\n",
        "'''\n",
        "def Error(Etiq , predicted):\n",
        "\n",
        "  return (Etiq != predicted).sum()\n",
        "\n",
        "def generalisation(NBtot,NbErr) :\n",
        "    NbBienClasse=NBtot-NbErr\n",
        "    return NbBienClasse/NBtot\n",
        "########################################\n",
        "\n",
        "def defineTau(X,w):\n",
        "  tau=[]\n",
        "  X = np.atleast_2d(X)\n",
        "  for x in X:\n",
        "       \n",
        "       if np.dot(w,x)<=0:\n",
        "           tau.append(-1)\n",
        "           \n",
        "       else:\n",
        "           tau.append(1)\n",
        "           \n",
        "       \n",
        "  #plt.show\n",
        "  return tau\n",
        "########################################\n",
        "def Stabilite(etiq,W,X):\n",
        "    \n",
        "    enum=etiq*np.dot(X,W)\n",
        "    return enum/linalg.norm(W)\n",
        "########################################\n",
        "def plotstab(s):\n",
        "    plt.hist(s, range=(-0.5, 0.7), bins=10, facecolor='red', alpha=0.5,edgecolor='blue')\n",
        "    plt.show()"
      ],
      "metadata": {
        "id": "7IGEPnvAvuL1"
      },
      "execution_count": 3,
      "outputs": []
    },
    {
      "cell_type": "markdown",
      "source": [
        "**PARTIE** 1"
      ],
      "metadata": {
        "id": "JoAOqjZ23ggx"
      }
    },
    {
      "cell_type": "code",
      "source": [
        "def Minimerror(X,etiq,W,iterations):\n",
        "  \n",
        "  #Parameters\n",
        "  iterats=0\n",
        "  betaplus=0.01\n",
        "  delta=0.01\n",
        "  alpha=0.01\n",
        "  \n",
        "  while iterats<=iterations :\n",
        "      dW=0\n",
        "      Wnorm = LA.norm(W)\n",
        "      for i, (Xi, etiqi) in enumerate(zip(X, etiq)):\n",
        "              Xi = np.atleast_2d(Xi)\n",
        "              stab= etiqi * np.dot(Xi, W) / Wnorm \n",
        "\n",
        "              dW+=     Xi/      (np.cosh(betaplus*stab/2)**2)*etiqi\n",
        "              \n",
        "      dW = - dW * betaplus / 4\n",
        "      W -=alpha* dW[0]\n",
        "      betaplus=betaplus+delta\n",
        "      iterats=iterats+1\n",
        "  \n",
        "  return W"
      ],
      "metadata": {
        "id": "2dm3VDeM3f2K"
      },
      "execution_count": 4,
      "outputs": []
    },
    {
      "cell_type": "code",
      "source": [
        "'''ET'''\n",
        "#X et Y\n",
        "X_= np.array([[-1, -1], [-1, 1], [1, -1], [1, 1]])\n",
        "X_= np.insert(X_,0,1,axis=1)\n",
        "etiq = np.array([[-1], [-1], [-1], [1]])\n",
        "print(etiq.shape)\n",
        "\n",
        "\n",
        "N=len(X_[0])\n",
        "\n",
        "#Weights\n",
        "W_=initialisationHebb(X_,N,etiq)\n",
        "W_=W_\n",
        "\n",
        "Weights_ET=Minimerror(X_,etiq,W_,100)\n",
        "print(Weights_ET)\n",
        "\n",
        "etiq_et_MinimError=defineTau(X_,Weights_ET)\n",
        "print(etiq_et_MinimError)\n",
        "\n",
        "#Compter les erreurs gen et app\n",
        "NbErr = Error(etiq.flatten(),etiq_et_MinimError)\n",
        "\n",
        "Eg=generalisation(4,NbErr)\n",
        "print(\"Erreur de généralisation\",Eg)\n",
        "print(\"Erreur d'apprentissage\",NbErr)\n",
        "\n",
        "\n",
        "\n",
        "#Calculer stabilité\n",
        "Stab_et=Stabilite(etiq,Weights_ET,X_)\n",
        "print(\"Stabilité\")\n",
        "print(Stab_et)"
      ],
      "metadata": {
        "colab": {
          "base_uri": "https://localhost:8080/"
        },
        "id": "3DlmkwHBBmNu",
        "outputId": "60125453-24ca-4ce0-8fc1-f7453f2ee9ea"
      },
      "execution_count": 5,
      "outputs": [
        {
          "output_type": "stream",
          "name": "stdout",
          "text": [
            "(4, 1)\n",
            "[-0.79266987  0.79266987  0.79266987]\n",
            "[-1, -1, -1, 1]\n",
            "Erreur de généralisation 1.0\n",
            "Erreur d'apprentissage 0\n",
            "Stabilité\n",
            "[[ 1.73205081  0.57735027  0.57735027 -0.57735027]\n",
            " [ 1.73205081  0.57735027  0.57735027 -0.57735027]\n",
            " [ 1.73205081  0.57735027  0.57735027 -0.57735027]\n",
            " [-1.73205081 -0.57735027 -0.57735027  0.57735027]]\n"
          ]
        }
      ]
    },
    {
      "cell_type": "code",
      "source": [
        "print(\"Plot de Stabilité\")\n",
        "plotstab(Stab_et)"
      ],
      "metadata": {
        "colab": {
          "base_uri": "https://localhost:8080/",
          "height": 282
        },
        "id": "7Z0Yi88KNefA",
        "outputId": "ed0f8141-9aa8-492d-9364-facf4efa8072"
      },
      "execution_count": 6,
      "outputs": [
        {
          "output_type": "stream",
          "name": "stdout",
          "text": [
            "Plot de Stabilité\n"
          ]
        },
        {
          "output_type": "display_data",
          "data": {
            "text/plain": [
              "<Figure size 432x288 with 1 Axes>"
            ],
            "image/png": "[encoded data removed]"
          },
          "metadata": {
            "needs_background": "light"
          }
        }
      ]
    },
    {
      "cell_type": "code",
      "source": [
        "'''ou'''\n",
        "#X et Y\n",
        "# construct the OR dataset\n",
        "X_= np.array([[-1, -1], [-1, 1], [1, -1], [1, 1]])\n",
        "X_= np.insert(X_,0,1,axis=1)\n",
        "etiq_ou = np.array([[-1], [1], [1], [1]])\n",
        "N=len(X_[0])\n",
        "\n",
        "#Weights\n",
        "W_=initialisationHebb(X_,N,etiq_ou)\n",
        "W_=W_\n",
        "\n",
        "\n",
        "W_=Minimerror(X_,etiq_ou,W_,1000)\n",
        "print(W_)\n",
        "etiqMinimerror = defineTau(X_,W_)\n",
        "\n",
        "\n",
        "#Compter les erreurs gen et app\n",
        "NbErr = Error(etiq_ou.flatten(),etiqMinimerror)\n",
        "\n",
        "Eg=generalisation(4,NbErr)\n",
        "print(\"Erreur de généralisation\",Eg)\n",
        "print(\"Erreur d'apprentissage\",NbErr)\n",
        "\n",
        "\n",
        "\n",
        "\n",
        "#Calculer stabilité\n",
        "Stab_ou=Stabilite(etiq,W_,X_)\n",
        "print(\"Stabilité\")\n",
        "print(Stab_ou)\n",
        "\n",
        "\n",
        "\n",
        "print(\"Plot de Stabilité\")\n",
        "plotstab(Stab_ou)"
      ],
      "metadata": {
        "colab": {
          "base_uri": "https://localhost:8080/",
          "height": 421
        },
        "id": "AeDUTsxOHK6v",
        "outputId": "94f14a94-b5fe-4d24-c592-180cde93b1fa"
      },
      "execution_count": 7,
      "outputs": [
        {
          "output_type": "stream",
          "name": "stdout",
          "text": [
            "[2.82530634 2.82530634 2.82530634]\n",
            "Erreur de généralisation 1.0\n",
            "Erreur d'apprentissage 0\n",
            "Stabilité\n",
            "[[ 0.57735027 -0.57735027 -0.57735027 -1.73205081]\n",
            " [ 0.57735027 -0.57735027 -0.57735027 -1.73205081]\n",
            " [ 0.57735027 -0.57735027 -0.57735027 -1.73205081]\n",
            " [-0.57735027  0.57735027  0.57735027  1.73205081]]\n",
            "Plot de Stabilité\n"
          ]
        },
        {
          "output_type": "display_data",
          "data": {
            "text/plain": [
              "<Figure size 432x288 with 1 Axes>"
            ],
            "image/png": "[encoded data removed]"
          },
          "metadata": {
            "needs_background": "light"
          }
        }
      ]
    },
    {
      "cell_type": "code",
      "source": [
        "#Sonar\n",
        "N = 60 #les colonnes\n",
        "P = 104 #les lignes\n",
        "etiq = np.loadtxt('/content/drive/MyDrive/M2Avignon/ApprocheNeuronales/Donnees/etiq_test.txt',dtype='int')\n",
        "etiq=etiq.reshape((104, 1))\n",
        "etiq=np.array(etiq,dtype=int)\n",
        "\n",
        "X_ = np.loadtxt(\"/content/drive/MyDrive/M2Avignon/ApprocheNeuronales/Donnees/test.txt\")\n",
        "\n",
        "ones = np.ones((len(X_),1))\n",
        "X_ = np.append(ones,X_,axis=1)\n",
        "X_=np.array(X_,dtype=float)\n",
        "\n",
        "N=len(X_[0])\n",
        "print(N)\n",
        "\n",
        "\n",
        "#Weights\n",
        "W_=initialisationHebb(X_,N,etiq)\n",
        "W_=W_\n",
        "\n",
        "W_=Minimerror(X_,etiq,W_,8000)\n",
        "\n",
        "etiqMinimerror=defineTau(X_,W_)\n",
        "\n",
        "\n",
        "\n",
        "#Compter les erreurs gen et app\n",
        "NbErr = Error(etiq.flatten(),etiqMinimerror)\n",
        "Eg=generalisation(P,NbErr)\n",
        "print(\"Erreur de généralisation\",Eg)\n",
        "print(\"Erreur d'apprentissage\",NbErr)\n",
        "\n",
        "\n",
        "print(\"\")\n",
        "print(\"Weights sonar\")\n",
        "print(W_)\n",
        "\n",
        "\n",
        "\n",
        "#Calculer stabilité\n",
        "Stab_sonar=Stabilite(etiq,W_,X_)\n",
        "print(\"Stabilité\")\n",
        "print(Stab_sonar)\n",
        "\n",
        "\n",
        "print(\"sonar\")\n",
        "\n",
        "def plotstab(s):\n",
        "    plt.hist(s, range=(-0.5, 0.7), bins=10, facecolor='red', alpha=0.5,edgecolor='blue')\n",
        "    plt.show()\n",
        "print(\"Plot de Stabilité\")\n",
        "plotstab(Stab_sonar)"
      ],
      "metadata": {
        "colab": {
          "base_uri": "https://localhost:8080/",
          "height": 907
        },
        "id": "ntWDTKgyMKDf",
        "outputId": "030922b0-e127-4e87-8d98-2cd1817d423b"
      },
      "execution_count": 8,
      "outputs": [
        {
          "output_type": "stream",
          "name": "stdout",
          "text": [
            "61\n",
            "Erreur de généralisation 0.9711538461538461\n",
            "Erreur d'apprentissage 3\n",
            "\n",
            "Weights sonar\n",
            "[-1.10851448e+02  1.28409163e+01 -1.71357243e+01 -1.10872430e+00\n",
            "  4.87817054e+01  2.64959055e+01  2.25324650e+01 -3.24577928e+01\n",
            "  2.47109839e+01  8.72269336e+01  1.03205258e+02  1.51428953e+02\n",
            "  1.16252557e+02  3.66838533e+01 -7.10441568e+01 -6.12803799e+01\n",
            "  2.25723914e+01  2.37195186e+01 -6.72067506e+01 -3.66700383e+01\n",
            "  9.98872683e+00  7.96972082e+01  6.55226244e+01  5.74101664e+01\n",
            "  1.77548823e+01 -1.02254309e+02 -9.06164644e+01  1.66618762e+01\n",
            "  6.47186424e+01  8.85048058e+00 -4.79118633e+01 -4.88827209e+01\n",
            "  7.02766795e+01 -1.53127437e+00 -4.61434679e+01 -2.95287613e+00\n",
            " -9.39046911e+01 -9.25512540e+01  7.13695349e+00  1.05986807e+02\n",
            " -1.18239133e+01  5.92294525e+01  1.22032172e+01  1.12943748e+02\n",
            "  1.40745856e+02  7.08708296e+01  7.63902743e+01  5.17283557e+01\n",
            "  2.13693257e+01  8.17099304e+00  4.69995718e+00  2.28801039e+01\n",
            "  1.82625116e+01  7.37879491e+00 -1.37453815e+00 -4.25863069e-01\n",
            "  4.32077481e+00  3.95786694e+00  5.91551675e+00  1.30894624e+01\n",
            "  4.74494309e-02]\n",
            "Stabilité\n",
            "[[ 0.05305812  0.12355189  0.16142833 ... -0.08241556 -0.06933452\n",
            "  -0.06104731]\n",
            " [ 0.05305812  0.12355189  0.16142833 ... -0.08241556 -0.06933452\n",
            "  -0.06104731]\n",
            " [ 0.05305812  0.12355189  0.16142833 ... -0.08241556 -0.06933452\n",
            "  -0.06104731]\n",
            " ...\n",
            " [-0.05305812 -0.12355189 -0.16142833 ...  0.08241556  0.06933452\n",
            "   0.06104731]\n",
            " [-0.05305812 -0.12355189 -0.16142833 ...  0.08241556  0.06933452\n",
            "   0.06104731]\n",
            " [-0.05305812 -0.12355189 -0.16142833 ...  0.08241556  0.06933452\n",
            "   0.06104731]]\n",
            "sonar\n",
            "Plot de Stabilité\n"
          ]
        },
        {
          "output_type": "display_data",
          "data": {
            "text/plain": [
              "<Figure size 432x288 with 1 Axes>"
            ],
            "image/png": "[encoded data removed]"
          },
          "metadata": {
            "needs_background": "light"
          }
        }
      ]
    },
    {
      "cell_type": "markdown",
      "source": [
        "**PARTIE** 2"
      ],
      "metadata": {
        "id": "k1gjTWE121ZS"
      }
    },
    {
      "cell_type": "code",
      "source": [
        "def Minimerror_2(X,etiq,W,iterations):\n",
        "  \n",
        "  #Parameters\n",
        "  iterats=0\n",
        "  betaplus=0.01\n",
        "  betamoins=0.001 #(6/0.01)\n",
        "  delta=0.01\n",
        "  alpha=0.01\n",
        "  \n",
        "  while iterats<=iterations :\n",
        "      dWp=0\n",
        "      dWn=0\n",
        "      \n",
        "      Wnorm = LA.norm(W)\n",
        "      \n",
        "      for i, (Xi, etiqi) in enumerate(zip(X, etiq)):\n",
        "              Xi = np.atleast_2d(Xi)\n",
        "              stab= etiqi * np.dot(Xi, W) / Wnorm \n",
        "              \n",
        "              \n",
        "              #selon la stabilité\n",
        "              if stab>0:\n",
        "                  dWp+=     Xi/      (np.cosh(betaplus*stab/2)**2)*etiq[i]\n",
        "              else :\n",
        "                   dWn+=     Xi/      (np.cosh(betamoins*stab/2)**2)*etiq[i]\n",
        "              \n",
        "              \n",
        "      dW = - np.add(dWp,dWn) * betaplus / 4\n",
        "      W -=alpha* dW[0]\n",
        "      betaplus=betaplus+delta\n",
        "      betamoins=betamoins+delta\n",
        "      iterats=iterats+1\n",
        "  \n",
        "  return W"
      ],
      "metadata": {
        "id": "3XSRlnXxb8wl"
      },
      "execution_count": 9,
      "outputs": []
    },
    {
      "cell_type": "markdown",
      "source": [
        "Et"
      ],
      "metadata": {
        "id": "gUb8n2tl2Cso"
      }
    },
    {
      "cell_type": "code",
      "source": [
        "'''ET'''\n",
        "#X et Y\n",
        "X_= np.array([[-1, -1], [-1, 1], [1, -1], [1, 1]])\n",
        "X_= np.insert(X_,0,1,axis=1)\n",
        "etiq = np.array([[-1], [-1], [-1], [1]])\n",
        "print(etiq.shape)\n",
        "\n",
        "\n",
        "N=len(X_[0])\n",
        "\n",
        "#Weights\n",
        "W_=initialisationHebb(X_,N,etiq)\n",
        "W_=W_\n",
        "print(W_)\n",
        "\n",
        "\n",
        "\n",
        "#Trouver etiquetteprédite\n",
        "Weights=Minimerror_2(X_,etiq,W_,1000)\n",
        "etiq_et_MinimError2=defineTau(X_,Weights)\n",
        "print(etiq_et_MinimError2)\n",
        "\n",
        "#Compter les erreurs gen et app\n",
        "NbErr = Error(etiq.flatten(),etiq_et_MinimError2)\n",
        "\n",
        "Eg=generalisation(P,NbErr)\n",
        "print(\"Erreur de généralisation\",Eg)\n",
        "print(\"Erreur d'apprentissage\",NbErr)\n",
        "\n",
        "\n",
        "#Calculer stabilité\n",
        "Stab_ET=Stabilite(etiq,Weights,X_)\n",
        "print(\"Stabilité\")\n",
        "print(Stab_ET)\n",
        "\n",
        "\n",
        "\n",
        "print(\"Plot de Stabilité\")\n",
        "plotstab(Stab_ET)"
      ],
      "metadata": {
        "colab": {
          "base_uri": "https://localhost:8080/",
          "height": 456
        },
        "id": "snYVRuq9iElP",
        "outputId": "1f47e5de-19af-4237-b24a-9fd38d1af41a"
      },
      "execution_count": 10,
      "outputs": [
        {
          "output_type": "stream",
          "name": "stdout",
          "text": [
            "(4, 1)\n",
            "[-0.57735027  0.57735027  0.57735027]\n",
            "[-1, -1, -1, 1]\n",
            "Erreur de généralisation 1.0\n",
            "Erreur d'apprentissage 0\n",
            "Stabilité\n",
            "[[ 1.73205081  0.57735027  0.57735027 -0.57735027]\n",
            " [ 1.73205081  0.57735027  0.57735027 -0.57735027]\n",
            " [ 1.73205081  0.57735027  0.57735027 -0.57735027]\n",
            " [-1.73205081 -0.57735027 -0.57735027  0.57735027]]\n",
            "Plot de Stabilité\n"
          ]
        },
        {
          "output_type": "display_data",
          "data": {
            "text/plain": [
              "<Figure size 432x288 with 1 Axes>"
            ],
            "image/png": "[encoded data removed]"
          },
          "metadata": {
            "needs_background": "light"
          }
        }
      ]
    },
    {
      "cell_type": "markdown",
      "source": [
        "ou"
      ],
      "metadata": {
        "id": "QulLXk8L1ZWZ"
      }
    },
    {
      "cell_type": "code",
      "source": [
        "'''ou'''\n",
        "#X et Y\n",
        "# construct the OR dataset\n",
        "X_= np.array([[-1, -1], [-1, 1], [1, -1], [1, 1]])\n",
        "X_= np.insert(X_,0,1,axis=1)\n",
        "etiq_ou = np.array([[-1], [1], [1], [1]])\n",
        "N=len(X_[0])\n",
        "\n",
        "#Weights\n",
        "W_=initialisationHebb(X_,N,etiq)\n",
        "W_=W_\n",
        "\n",
        "\n",
        "#Trouver etiquetteprédite\n",
        "Weights=Minimerror_2(X_,etiq,W_,1000)\n",
        "etiq_ou_MinimError2=defineTau(X_,Weights)\n",
        "print(etiq_ou_MinimError2)\n",
        "\n",
        "#Compter les erreurs gen et app\n",
        "NbErr = Error(etiq.flatten(),etiq_ou_MinimError2)\n",
        "\n",
        "Eg=generalisation(P,NbErr)\n",
        "print(\"Erreur de généralisation\",Eg)\n",
        "print(\"Erreur d'apprentissage\",NbErr)\n",
        "\n",
        "\n",
        "\n",
        "\n",
        "#Calculer stabilité\n",
        "Stab_ou=Stabilite(etiq_ou,Weights,X_)\n",
        "print(\"Stabilité\")\n",
        "print(Stab_ou)\n",
        "\n",
        "\n",
        "\n",
        "print(\"Plot de Stabilité\")\n",
        "plotstab(Stab_ou)"
      ],
      "metadata": {
        "colab": {
          "base_uri": "https://localhost:8080/",
          "height": 421
        },
        "id": "UKII3Ic7itnX",
        "outputId": "c3ea1b07-b7f2-4b1f-f73b-c0688b10a90d"
      },
      "execution_count": 11,
      "outputs": [
        {
          "output_type": "stream",
          "name": "stdout",
          "text": [
            "[-1, -1, -1, 1]\n",
            "Erreur de généralisation 1.0\n",
            "Erreur d'apprentissage 0\n",
            "Stabilité\n",
            "[[ 1.73205081  0.57735027  0.57735027 -0.57735027]\n",
            " [-1.73205081 -0.57735027 -0.57735027  0.57735027]\n",
            " [-1.73205081 -0.57735027 -0.57735027  0.57735027]\n",
            " [-1.73205081 -0.57735027 -0.57735027  0.57735027]]\n",
            "Plot de Stabilité\n"
          ]
        },
        {
          "output_type": "display_data",
          "data": {
            "text/plain": [
              "<Figure size 432x288 with 1 Axes>"
            ],
            "image/png": "[encoded data removed]"
          },
          "metadata": {
            "needs_background": "light"
          }
        }
      ]
    },
    {
      "cell_type": "markdown",
      "source": [
        "Sonar"
      ],
      "metadata": {
        "id": "MUS5ZZbh1Xhb"
      }
    },
    {
      "cell_type": "code",
      "source": [
        "#Les labels \n",
        "etiq_sonar = np.loadtxt('/content/drive/MyDrive/M2Avignon/ApprocheNeuronales/Donnees/etiq_test.txt',dtype='int')\n",
        "etiq_sonar=etiq_sonar.reshape((104, 1))\n",
        "etiq_sonar=np.array(etiq_sonar,dtype=int)\n",
        "\n",
        "#Données X\n",
        "X_ = np.loadtxt(\"/content/drive/MyDrive/M2Avignon/ApprocheNeuronales/Donnees/test.txt\")\n",
        "ones = np.ones((len(X_),1))\n",
        "X_ = np.append(ones,X_,axis=1)\n",
        "X_=np.array(X_,dtype=float)\n",
        "\n",
        "#N\n",
        "N=len(X_[0])\n",
        "print(N)\n",
        "\n",
        "\n",
        "#Weights\n",
        "W_=initialisationHebb(X_,N,etiq_sonar)\n",
        "W_=W_\n",
        "\n",
        "Weights=Minimerror_2(X_,etiq_sonar,W_,8000)\n",
        "\n",
        "\n",
        "\n",
        "#Trouver etiquetteprédite\n",
        "etiq_sonar_predicted_MinimError2=defineTau(X_,Weights)\n",
        "etiq_sonar_predicted_MinimError2=np.array(etiq_sonar_predicted_MinimError2,dtype=int)\n",
        "\n",
        "\n",
        "#Compter les erreurs gen et app\n",
        "NbErr = Error(etiq_sonar.flatten(),etiq_sonar_predicted_MinimError2)\n",
        "print(NbErr)\n",
        "Eg=generalisation(P,NbErr)\n",
        "print(\"Erreur de généralisation\",Eg)\n",
        "print(\"Erreur d'apprentissage\",NbErr)\n",
        "\n",
        "#les poids\n",
        "print(Weights)\n",
        "\n",
        "#Calculer stabilité\n",
        "Stab_sonar=Stabilite(etiq,Weights,X_)\n",
        "print(\"Stabilité\")\n",
        "print(Stab_sonar)\n",
        "\n",
        "\n",
        "print(\"sonar\")\n",
        "\n",
        "def plotstab(s):\n",
        "    plt.hist(s, range=(-0.5, 0.7), bins=10, facecolor='red', alpha=0.5,edgecolor='blue')\n",
        "    plt.show()\n",
        "print(\"Plot de Stabilité\")\n",
        "plotstab(Stab_sonar)"
      ],
      "metadata": {
        "colab": {
          "base_uri": "https://localhost:8080/",
          "height": 1000
        },
        "id": "4UGk7zF8cNxs",
        "outputId": "6427a89c-c6a8-414f-a26e-1987c5804cea"
      },
      "execution_count": 12,
      "outputs": [
        {
          "output_type": "stream",
          "name": "stdout",
          "text": [
            "61\n",
            "3\n",
            "Erreur de généralisation 0.9711538461538461\n",
            "Erreur d'apprentissage 3\n",
            "[-1.10984103e+02  1.28650980e+01 -1.71416929e+01 -1.10812062e+00\n",
            "  4.88030821e+01  2.65064328e+01  2.25289503e+01 -3.24755760e+01\n",
            "  2.47232806e+01  8.73117468e+01  1.03330084e+02  1.51598391e+02\n",
            "  1.16407203e+02  3.67393772e+01 -7.11130236e+01 -6.13525299e+01\n",
            "  2.26001495e+01  2.37310241e+01 -6.73337646e+01 -3.66577898e+01\n",
            "  9.99728775e+00  7.97996485e+01  6.55771467e+01  5.74829644e+01\n",
            "  1.77904941e+01 -1.02359440e+02 -9.07353311e+01  1.66738570e+01\n",
            "  6.47858584e+01  8.84121511e+00 -4.79476680e+01 -4.89195147e+01\n",
            "  7.03471154e+01 -1.55328581e+00 -4.61889683e+01 -2.95126784e+00\n",
            " -9.39934350e+01 -9.26770447e+01  7.15546160e+00  1.06108640e+02\n",
            " -1.18434966e+01  5.92912588e+01  1.22102747e+01  1.13062243e+02\n",
            "  1.40898047e+02  7.09857737e+01  7.64872312e+01  5.18180851e+01\n",
            "  2.14200742e+01  8.20074323e+00  4.71137881e+00  2.28964646e+01\n",
            "  1.82727918e+01  7.38129835e+00 -1.37454710e+00 -4.31646734e-01\n",
            "  4.32539427e+00  3.95994735e+00  5.91835844e+00  1.30975931e+01\n",
            "  4.55260568e-02]\n",
            "Stabilité\n",
            "[[-0.05304748 -0.1235309  -0.16145586 -0.07194264 -0.04281963 -0.05526148\n",
            "  -0.11972178 -0.10141362 -0.17240494 -0.0600539  -0.21989211 -0.105686\n",
            "  -0.13258759 -0.05637807 -0.1008023  -0.19775607 -0.32514974 -0.280642\n",
            "  -0.32902819 -0.4908298  -0.32009512 -0.24714102 -0.55352546 -0.55803818\n",
            "  -0.39702504 -0.60074965 -0.38890046 -0.58273176 -0.12139332 -0.37193135\n",
            "  -0.2105193  -0.0547386  -0.22623035 -0.24990737 -0.08325476 -0.27969943\n",
            "  -0.07357608 -0.06195573 -0.04646186 -0.06250201 -0.42749243 -0.58990805\n",
            "  -0.43072814 -0.76775768 -0.66586331 -0.83288316 -0.74750956 -0.66592716\n",
            "  -0.13844269 -0.03819672 -0.07352346 -0.04518345 -0.09873309 -0.18226733\n",
            "  -0.2479677  -0.16564388 -0.28689432 -0.31140836 -0.24885414 -0.21825866\n",
            "  -0.06014399 -0.0472049   0.07110785  0.07456723  0.20483632 -0.33966648\n",
            "  -0.28318605  0.04740532  0.21381637  0.05242063  0.14174577  0.22377139\n",
            "   0.18218775  0.33561708 -0.11535223  0.04219113  0.30161324  0.21583735\n",
            "   0.07199296  0.06768627  0.0458196   0.04828477  0.20208659  0.12506297\n",
            "   0.18040662  0.080491    0.15648505  0.06669513  0.05703293  0.1039376\n",
            "   0.24595569  0.21298669  0.0357485   0.22720802  0.09751389  0.09865845\n",
            "   0.05147017  0.05134141  0.12442715  0.0848115   0.12005424  0.08239524\n",
            "   0.06932978  0.06107405]\n",
            " [-0.05304748 -0.1235309  -0.16145586 -0.07194264 -0.04281963 -0.05526148\n",
            "  -0.11972178 -0.10141362 -0.17240494 -0.0600539  -0.21989211 -0.105686\n",
            "  -0.13258759 -0.05637807 -0.1008023  -0.19775607 -0.32514974 -0.280642\n",
            "  -0.32902819 -0.4908298  -0.32009512 -0.24714102 -0.55352546 -0.55803818\n",
            "  -0.39702504 -0.60074965 -0.38890046 -0.58273176 -0.12139332 -0.37193135\n",
            "  -0.2105193  -0.0547386  -0.22623035 -0.24990737 -0.08325476 -0.27969943\n",
            "  -0.07357608 -0.06195573 -0.04646186 -0.06250201 -0.42749243 -0.58990805\n",
            "  -0.43072814 -0.76775768 -0.66586331 -0.83288316 -0.74750956 -0.66592716\n",
            "  -0.13844269 -0.03819672 -0.07352346 -0.04518345 -0.09873309 -0.18226733\n",
            "  -0.2479677  -0.16564388 -0.28689432 -0.31140836 -0.24885414 -0.21825866\n",
            "  -0.06014399 -0.0472049   0.07110785  0.07456723  0.20483632 -0.33966648\n",
            "  -0.28318605  0.04740532  0.21381637  0.05242063  0.14174577  0.22377139\n",
            "   0.18218775  0.33561708 -0.11535223  0.04219113  0.30161324  0.21583735\n",
            "   0.07199296  0.06768627  0.0458196   0.04828477  0.20208659  0.12506297\n",
            "   0.18040662  0.080491    0.15648505  0.06669513  0.05703293  0.1039376\n",
            "   0.24595569  0.21298669  0.0357485   0.22720802  0.09751389  0.09865845\n",
            "   0.05147017  0.05134141  0.12442715  0.0848115   0.12005424  0.08239524\n",
            "   0.06932978  0.06107405]\n",
            " [-0.05304748 -0.1235309  -0.16145586 -0.07194264 -0.04281963 -0.05526148\n",
            "  -0.11972178 -0.10141362 -0.17240494 -0.0600539  -0.21989211 -0.105686\n",
            "  -0.13258759 -0.05637807 -0.1008023  -0.19775607 -0.32514974 -0.280642\n",
            "  -0.32902819 -0.4908298  -0.32009512 -0.24714102 -0.55352546 -0.55803818\n",
            "  -0.39702504 -0.60074965 -0.38890046 -0.58273176 -0.12139332 -0.37193135\n",
            "  -0.2105193  -0.0547386  -0.22623035 -0.24990737 -0.08325476 -0.27969943\n",
            "  -0.07357608 -0.06195573 -0.04646186 -0.06250201 -0.42749243 -0.58990805\n",
            "  -0.43072814 -0.76775768 -0.66586331 -0.83288316 -0.74750956 -0.66592716\n",
            "  -0.13844269 -0.03819672 -0.07352346 -0.04518345 -0.09873309 -0.18226733\n",
            "  -0.2479677  -0.16564388 -0.28689432 -0.31140836 -0.24885414 -0.21825866\n",
            "  -0.06014399 -0.0472049   0.07110785  0.07456723  0.20483632 -0.33966648\n",
            "  -0.28318605  0.04740532  0.21381637  0.05242063  0.14174577  0.22377139\n",
            "   0.18218775  0.33561708 -0.11535223  0.04219113  0.30161324  0.21583735\n",
            "   0.07199296  0.06768627  0.0458196   0.04828477  0.20208659  0.12506297\n",
            "   0.18040662  0.080491    0.15648505  0.06669513  0.05703293  0.1039376\n",
            "   0.24595569  0.21298669  0.0357485   0.22720802  0.09751389  0.09865845\n",
            "   0.05147017  0.05134141  0.12442715  0.0848115   0.12005424  0.08239524\n",
            "   0.06932978  0.06107405]\n",
            " [ 0.05304748  0.1235309   0.16145586  0.07194264  0.04281963  0.05526148\n",
            "   0.11972178  0.10141362  0.17240494  0.0600539   0.21989211  0.105686\n",
            "   0.13258759  0.05637807  0.1008023   0.19775607  0.32514974  0.280642\n",
            "   0.32902819  0.4908298   0.32009512  0.24714102  0.55352546  0.55803818\n",
            "   0.39702504  0.60074965  0.38890046  0.58273176  0.12139332  0.37193135\n",
            "   0.2105193   0.0547386   0.22623035  0.24990737  0.08325476  0.27969943\n",
            "   0.07357608  0.06195573  0.04646186  0.06250201  0.42749243  0.58990805\n",
            "   0.43072814  0.76775768  0.66586331  0.83288316  0.74750956  0.66592716\n",
            "   0.13844269  0.03819672  0.07352346  0.04518345  0.09873309  0.18226733\n",
            "   0.2479677   0.16564388  0.28689432  0.31140836  0.24885414  0.21825866\n",
            "   0.06014399  0.0472049  -0.07110785 -0.07456723 -0.20483632  0.33966648\n",
            "   0.28318605 -0.04740532 -0.21381637 -0.05242063 -0.14174577 -0.22377139\n",
            "  -0.18218775 -0.33561708  0.11535223 -0.04219113 -0.30161324 -0.21583735\n",
            "  -0.07199296 -0.06768627 -0.0458196  -0.04828477 -0.20208659 -0.12506297\n",
            "  -0.18040662 -0.080491   -0.15648505 -0.06669513 -0.05703293 -0.1039376\n",
            "  -0.24595569 -0.21298669 -0.0357485  -0.22720802 -0.09751389 -0.09865845\n",
            "  -0.05147017 -0.05134141 -0.12442715 -0.0848115  -0.12005424 -0.08239524\n",
            "  -0.06932978 -0.06107405]]\n",
            "sonar\n",
            "Plot de Stabilité\n"
          ]
        },
        {
          "output_type": "display_data",
          "data": {
            "text/plain": [
              "<Figure size 432x288 with 1 Axes>"
            ],
            "image/png": "[encoded data removed]"
          },
          "metadata": {
            "needs_background": "light"
          }
        }
      ]
    }
  ]
}